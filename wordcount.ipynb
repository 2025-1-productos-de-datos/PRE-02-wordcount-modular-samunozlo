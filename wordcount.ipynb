{
 "cells": [
  {
   "cell_type": "code",
   "execution_count": 8,
   "id": "8c537a6c",
   "metadata": {},
   "outputs": [],
   "source": [
    "import os\n",
    "\n",
    "from homework.src._internals.write_count_words import write_count_words\n",
    "\n",
    "\n",
    "\n",
    "\n",
    "def main():\n",
    "\n",
    "    ## read all lines\n",
    "    all_lines = []\n",
    "    input_file_list = os.listdir(\"data/input/\")\n",
    "    for filename in input_file_list:\n",
    "        file_path = os.path.join(\"data/input\", filename)\n",
    "        with open(file_path, \"r\", encoding=\"utf-8\") as f:\n",
    "            lines = f.readlines()\n",
    "            all_lines.extend(lines)\n",
    "\n",
    "    ## preprocess lines\n",
    "    all_lines = [line.lower().strip() for line in all_lines]\n",
    "\n",
    "    ## split in words\n",
    "    words = []\n",
    "    for line in all_lines:\n",
    "        words.extend(word.strip(\",.!?\") for word in line.split())\n",
    "\n",
    "    ## count words\n",
    "    counter = {}\n",
    "    for word in words:\n",
    "        counter[word] = counter.get(word, 0) + 1\n",
    "\n",
    "    # count the frequency of the words in the files in the input directory\n",
    "    # counter = {}\n",
    "    # for filename in input_file_list:\n",
    "    #     with open(\"data/input/\" + filename) as f:\n",
    "    #         for l in f:\n",
    "    #             for w in l.split():\n",
    "    #                 w = w.lower().strip(\",.!?\")\n",
    "    #                 counter[w] = counter.get(w, 0) + 1\n",
    "\n",
    "    ##\n",
    "    write_count_words(counter)\n",
    "\n",
    "\n",
    "if __name__ == \"__main__\":\n",
    "    main()"
   ]
  }
 ],
 "metadata": {
  "kernelspec": {
   "display_name": ".venv",
   "language": "python",
   "name": "python3"
  },
  "language_info": {
   "codemirror_mode": {
    "name": "ipython",
    "version": 3
   },
   "file_extension": ".py",
   "mimetype": "text/x-python",
   "name": "python",
   "nbconvert_exporter": "python",
   "pygments_lexer": "ipython3",
   "version": "3.13.3"
  }
 },
 "nbformat": 4,
 "nbformat_minor": 5
}
